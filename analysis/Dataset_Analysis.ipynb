{
 "cells": [
  {
   "attachments": {},
   "cell_type": "markdown",
   "id": "30196f5e",
   "metadata": {},
   "source": [
    "# BZR Dataset Analysis\n",
    "\n",
    "Fro wikipedia:\n",
    "\n",
    "Benzodiazepine receptors, which are found on postsynaptic nerve endings in the central nervous system (CNS), are part of the GABA receptor complex. GABA is the primary inhibitory neurotransmitter of the CNS. The GABA receptor complex is composed of two α-subunits and two β-subunits."
   ]
  },
  {
   "cell_type": "code",
   "execution_count": null,
   "id": "e356f50c",
   "metadata": {},
   "outputs": [],
   "source": [
    "!mlflow ui"
   ]
  },
  {
   "cell_type": "code",
   "execution_count": null,
   "id": "a2659bff",
   "metadata": {},
   "outputs": [],
   "source": [
    "import networkx as nx\n",
    "import numpy as np\n",
    "import scipy as sc\n",
    "import os\n",
    "import re\n",
    "import util"
   ]
  },
  {
   "cell_type": "code",
   "execution_count": null,
   "id": "bb46d791",
   "metadata": {},
   "outputs": [],
   "source": [
    "\n",
    "def read_graphfile_viz(datadir, dataname, max_nodes=None, node_map=None):\n",
    "    prefix = os.path.join(datadir, dataname, dataname)\n",
    "    filename_graph_indic = prefix + '_graph_indicator.txt'\n",
    "    graph_indic={}\n",
    "    with open(filename_graph_indic) as f:\n",
    "        i=1\n",
    "        for line in f:\n",
    "            line=line.strip(\"\\n\")\n",
    "            graph_indic[i]=int(line)\n",
    "            i+=1\n",
    "\n",
    "    filename_nodes=prefix + '_node_labels.txt'\n",
    "    node_labels=[]\n",
    "    \n",
    "#     node_map = get_node_map()\n",
    "    print(f\"node map: {node_map}\")\n",
    "    \n",
    "    try:\n",
    "        with open(filename_nodes) as f:\n",
    "            for line in f:\n",
    "                line=line.strip(\"\\n\")\n",
    "#                 print(line)\n",
    "#                 node_labels+=[int(line) - 1]\n",
    "                # node_labels += node_map.get(line)\n",
    "                node_labels += line\n",
    "#         print(node_labels)\n",
    "        num_unique_node_labels = len(set(node_labels))\n",
    "    except IOError:\n",
    "        print('No node labels')\n",
    " \n",
    "    filename_node_attrs=prefix + '_node_attributes.txt'\n",
    "    node_attrs=[]\n",
    "    try:\n",
    "        with open(filename_node_attrs) as f:\n",
    "            for line in f:\n",
    "                line = line.strip(\"\\s\\n\")\n",
    "                attrs = [float(attr) for attr in re.split(\"[,\\s]+\", line) if not attr == '']\n",
    "                node_attrs.append(np.array(attrs))\n",
    "    except IOError:\n",
    "        print('No node attributes')\n",
    "       \n",
    "    label_has_zero = False\n",
    "    filename_graphs=prefix + '_graph_labels.txt'\n",
    "    graph_labels=[]\n",
    "\n",
    "    label_vals = []\n",
    "    with open(filename_graphs) as f:\n",
    "        for line in f:\n",
    "            line=line.strip(\"\\n\")\n",
    "            val = int(line)\n",
    "            if val not in label_vals:\n",
    "                label_vals.append(val)\n",
    "            graph_labels.append(val)\n",
    "\n",
    "    label_map_to_int = {val: i for i, val in enumerate(label_vals)}\n",
    "    graph_labels = np.array([label_map_to_int[l] for l in graph_labels])\n",
    "\n",
    "    filename_adj=prefix + '_A.txt'\n",
    "    adj_list={i:[] for i in range(1,len(graph_labels)+1)}    \n",
    "    index_graph={i:[] for i in range(1,len(graph_labels)+1)}\n",
    "    num_edges = 0\n",
    "    with open(filename_adj) as f:\n",
    "        for line in f:\n",
    "            line=line.strip(\"\\n\").split(\",\")\n",
    "            e0,e1=(int(line[0].strip(\" \")),int(line[1].strip(\" \")))\n",
    "            adj_list[graph_indic[e0]].append((e0,e1))\n",
    "            index_graph[graph_indic[e0]]+=[e0,e1]\n",
    "            num_edges += 1\n",
    "    for k in index_graph.keys():\n",
    "        index_graph[k]=[u-1 for u in set(index_graph[k])]\n",
    "    \n",
    "    \n",
    "    graphs=[]\n",
    "    for i in range(1,1+len(adj_list)):\n",
    "        G=nx.from_edgelist(adj_list[i])\n",
    "        G.graph['label'] = graph_labels[i-1]\n",
    "        for u in util.node_iter(G):\n",
    "            if len(node_labels) > 0:\n",
    "                # node_label_one_hot = { node_lbl: 0 for node_lbl in range(num_unique_node_labels)}\n",
    "                node_label = node_labels[u-1]\n",
    "                # node_label_one_hot[node_label] = 1\n",
    "                util.node_dict(G)[u]['label'] = node_label\n",
    "            if len(node_attrs) > 0:\n",
    "                util.node_dict(G)[u]['feat'] = node_attrs[u-1]\n",
    "        if len(node_attrs) > 0:\n",
    "            G.graph['feat_dim'] = node_attrs[0].shape[0]\n",
    "        # print(node_labels)\n",
    "#         print(G.nodes())\n",
    "#         print(G.edges())\n",
    "        # print(G.get get_node_attribute('label'))\n",
    "        # nx.draw(G, with_labels=True)\n",
    "        \n",
    "        mapping={}\n",
    "        \n",
    "        for n in util.node_iter(G):\n",
    "            if node_map is not None:\n",
    "                mapping[n]= f\"{node_map.get(G.nodes[n]['label']) + '-' + str(n)}\"\n",
    "            else:\n",
    "                mapping[n]= f\"{G.nodes[n]['label']}\"\n",
    "    #         graphs.append(nx.relabel_nodes(G, mapping))\n",
    "        graphs.append((G, mapping))\n",
    "\n",
    "        # node_label_mapping = {}\n",
    "#         nx.draw(G, labels = mapping, with_labels=True)\n",
    "#         nx.draw(graphs[, labels = mapping, with_labels=True, node_size=1000)\n",
    "    return graphs"
   ]
  },
  {
   "cell_type": "code",
   "execution_count": null,
   "id": "3a62e156",
   "metadata": {},
   "outputs": [],
   "source": [
    "def get_bzr_node_map():\n",
    "    activities = \"\"\"0\tO\n",
    "    1\tC\n",
    "    2\tN\n",
    "    3\tF\n",
    "    4\tCl\n",
    "    5\tS\n",
    "    6\tBr\n",
    "    7\tSi\n",
    "    8\tNa\n",
    "    9\tI\n",
    "    10\tHg\n",
    "    11\tB\n",
    "    12\tK\n",
    "    13\tP\n",
    "    14\tAu\n",
    "    15\tCr\n",
    "    16\tSn\n",
    "    17\tCa\n",
    "    18\tCd\n",
    "    19\tZn\n",
    "    20\tV\n",
    "    21\tAs\n",
    "    22\tLi\n",
    "    23\tCu\n",
    "    24\tCo\n",
    "    25\tAg\n",
    "    26\tSe\n",
    "    27\tPt\n",
    "    28\tAl\n",
    "    29\tBi\n",
    "    30\tSb\n",
    "    31\tBa\n",
    "    32\tFe\n",
    "    33\tH\n",
    "    34\tTi\n",
    "    35\tTl\n",
    "    36\tSr\n",
    "    37\tIn\n",
    "    38\tDy\n",
    "    39\tNi\n",
    "    40\tBe\n",
    "    41\tMg\n",
    "    42\tNd\n",
    "    43\tPd\n",
    "    44\tMn\n",
    "    45\tZr\n",
    "    46\tPb\n",
    "    47\tYb\n",
    "    48\tMo\n",
    "    49\tGe\n",
    "    50\tRu\n",
    "    51\tEu\n",
    "    52\tSc\n",
    "    53\tGd\"\"\"\n",
    "\n",
    "    node_map = {i.split('\\t')[0].strip() : i.split('\\t')[1].strip() for i in activities.split(\"\\n\")}\n",
    "\n",
    "    return node_map"
   ]
  },
  {
   "cell_type": "code",
   "execution_count": null,
   "id": "df023039",
   "metadata": {},
   "outputs": [],
   "source": [
    "node_map = get_bzr_node_map()\n",
    "bzr_graphs = read_graphfile_viz('./../dataset', dataname='BZR', node_map = node_map)"
   ]
  },
  {
   "cell_type": "code",
   "execution_count": null,
   "id": "d9807d1d",
   "metadata": {},
   "outputs": [],
   "source": [
    "G = bzr_graphs[28][0].copy()\n",
    "labels = bzr_graphs[28][1].copy()\n",
    "\n",
    "for n1 in list(G.nodes(data=True)):\n",
    "    print(n1)"
   ]
  },
  {
   "cell_type": "code",
   "execution_count": null,
   "id": "262da724",
   "metadata": {},
   "outputs": [],
   "source": [
    "G.degree()"
   ]
  },
  {
   "cell_type": "code",
   "execution_count": null,
   "id": "534b5590",
   "metadata": {},
   "outputs": [],
   "source": [
    "# edges present / max number of possible edges\n",
    "nx.density(G)"
   ]
  },
  {
   "cell_type": "code",
   "execution_count": null,
   "id": "2c4290c6",
   "metadata": {},
   "outputs": [],
   "source": [
    "# Why is it called transitivity? if A=B and B=C, the A must equal C. \n",
    "# Similarly, in triadic closure, if person A knows person B and person B knows person C, then person A probably knows person C: hence, transitivity. ↩\n",
    "nx.transitivity(G)"
   ]
  },
  {
   "attachments": {},
   "cell_type": "markdown",
   "id": "def2e3fc",
   "metadata": {},
   "source": [
    "## Centrality Measures\n",
    "\n",
    "It is used to measure the importance (or “centrality” as in how “central” a node is in the graph) of various nodes in a graph\n",
    "\n",
    "- Degree\n",
    "- Betweenness centrality - This metric defines and measures the importance of a node in a network based upon how many times it occurs in the shortest path between all pairs of nodes in a graph.\n",
    "- Closeness centrality - \n",
    "- Eigenvector centrality - This metric measures the importance of a node in a graph as a function of the importance of its neighbors. If a node is connected to highly important nodes, it will have a higher Eigen Vector Centrality score as compared to a node which is connected to lesser important nodes."
   ]
  },
  {
   "cell_type": "code",
   "execution_count": null,
   "id": "2ec78f2e",
   "metadata": {},
   "outputs": [],
   "source": [
    "betweenness_dict = nx.betweenness_centrality(G) # Run betweenness centrality\n",
    "eigenvector_dict = nx.eigenvector_centrality(G, max_iter=600) # Run eigenvector centrality\n",
    "\n",
    "degree_dict = nx.degree(G)\n",
    "pageranks = nx.pagerank(G, max_iter=400)\n",
    "\n",
    "\n",
    "# Assign each to an attribute in your network\n",
    "nx.set_node_attributes(G, betweenness_dict, 'betweenness')\n",
    "nx.set_node_attributes(G, eigenvector_dict, 'eigenvector')\n",
    "nx.set_node_attributes(G, degree_dict, 'degree')\n",
    "nx.set_node_attributes(G, dict(pageranks), 'pagerank')"
   ]
  },
  {
   "cell_type": "code",
   "execution_count": null,
   "id": "785fba30",
   "metadata": {},
   "outputs": [],
   "source": [
    "from operator import itemgetter\n",
    "\n",
    "sorted_degree = sorted(dict(degree_dict).items(), key=itemgetter(1), reverse=True)\n",
    "\n",
    "print(\"Top nodes by degree:\")\n",
    "for d in sorted_degree:\n",
    "    print(d)"
   ]
  },
  {
   "cell_type": "code",
   "execution_count": null,
   "id": "0a7f9d96",
   "metadata": {},
   "outputs": [],
   "source": [
    "nx.draw(G, labels=labels, with_labels=True, node_size=1000)"
   ]
  },
  {
   "cell_type": "code",
   "execution_count": null,
   "id": "29d1af9e",
   "metadata": {},
   "outputs": [],
   "source": [
    "only_labels = {k: v.split(\"-\")[0] for k, v in labels.items()}\n",
    "nx.draw_kamada_kawai(G, labels=only_labels, with_labels = True, node_size=1000)"
   ]
  },
  {
   "cell_type": "code",
   "execution_count": null,
   "id": "32539abb",
   "metadata": {},
   "outputs": [],
   "source": [
    "nx.draw_kamada_kawai(G, labels=only_labels, with_labels = True, node_size=1000)"
   ]
  },
  {
   "cell_type": "code",
   "execution_count": null,
   "id": "ae4c601b",
   "metadata": {},
   "outputs": [],
   "source": [
    " # A dictionary\n",
    "# print(sorted(pageranks, key=lambda x: x[0], reverse=True))\n",
    "sorted_pageranks = sorted(dict(pageranks).items(), key=itemgetter(1), reverse=True)\n",
    "sorted_pageranks"
   ]
  },
  {
   "cell_type": "code",
   "execution_count": null,
   "id": "c72ef450",
   "metadata": {},
   "outputs": [],
   "source": [
    "import pandas as pd\n",
    "graph0 = pd.DataFrame.from_dict(dict(G.nodes(data=True)), orient='index')"
   ]
  },
  {
   "cell_type": "code",
   "execution_count": null,
   "id": "eafc5e2c",
   "metadata": {},
   "outputs": [],
   "source": [
    "graph0.describe()"
   ]
  },
  {
   "cell_type": "code",
   "execution_count": null,
   "id": "17aeed5b",
   "metadata": {
    "scrolled": true
   },
   "outputs": [],
   "source": [
    "df_centrality_measures = graph0.groupby('label').agg({'betweenness': np.mean, 'pagerank': np.mean,  'eigenvector': np.mean, }).reset_index()"
   ]
  },
  {
   "cell_type": "code",
   "execution_count": null,
   "id": "4fdfabb0",
   "metadata": {},
   "outputs": [],
   "source": [
    "df_centrality_measures['label'] = df_centrality_measures['label'].apply(lambda x: node_map.get(x))"
   ]
  },
  {
   "cell_type": "code",
   "execution_count": null,
   "id": "cbd76f87",
   "metadata": {},
   "outputs": [],
   "source": [
    "import matplotlib.pyplot as plt\n",
    "\n",
    "fig, (ax1) = plt.subplots(1, 3, figsize=(11,5))\n",
    "fig.suptitle('Centrality Measures for A Drug')\n",
    "# ax1.plot(x, y)\n",
    "df_centrality_measures.plot(kind='bar', x='label', y='betweenness', ax=ax1[0])\n",
    "df_centrality_measures.plot(kind='bar', x='label', y='pagerank', ax= ax1[1])\n",
    "# df_centrality_measures.plot(kind='bar', x='label', y='closeness', ax= ax2[0])\n",
    "df_centrality_measures.plot(kind='bar', x='label', y='eigenvector', ax= ax1[2])"
   ]
  },
  {
   "cell_type": "code",
   "execution_count": null,
   "id": "abc8ef9c",
   "metadata": {
    "scrolled": true
   },
   "outputs": [],
   "source": [
    "df_centrality_measures = graph0.groupby('label').agg({'betweenness': np.mean, 'pagerank': np.mean,  'eigenvector': np.mean, }).reset_index()"
   ]
  },
  {
   "cell_type": "code",
   "execution_count": null,
   "id": "bf8accdc",
   "metadata": {},
   "outputs": [],
   "source": [
    "df_centrality_measures['label'] = df_centrality_measures['label'].apply(lambda x: node_map.get(x))"
   ]
  },
  {
   "cell_type": "code",
   "execution_count": null,
   "id": "fbba6815",
   "metadata": {},
   "outputs": [],
   "source": [
    "import matplotlib.pyplot as plt\n",
    "\n",
    "fig, (ax1) = plt.subplots(1, 3, figsize=(11,5))\n",
    "fig.suptitle('Centrality Measures for A Drug')\n",
    "# ax1.plot(x, y)\n",
    "df_centrality_measures.plot(kind='bar', x='label', y='betweenness', ax=ax1[0])\n",
    "df_centrality_measures.plot(kind='bar', x='label', y='pagerank', ax= ax1[1])\n",
    "# df_centrality_measures.plot(kind='bar', x='label', y='closeness', ax= ax2[0])\n",
    "df_centrality_measures.plot(kind='bar', x='label', y='eigenvector', ax= ax1[2])"
   ]
  },
  {
   "cell_type": "code",
   "execution_count": null,
   "id": "8451de70",
   "metadata": {},
   "outputs": [],
   "source": [
    "graph0.groupby('label').agg({'betweenness': np.sum, 'pageranks': np.sum}).reset_index().plot(kind='bar', x='label', y='betweenness')"
   ]
  },
  {
   "cell_type": "code",
   "execution_count": null,
   "id": "c5439d90",
   "metadata": {},
   "outputs": [],
   "source": [
    "graph0.groupby('label').agg({'betweenness': np.sum, 'pageranks': np.sum}).reset_index().plot(kind='bar', x='label', y='pageranks')"
   ]
  },
  {
   "attachments": {},
   "cell_type": "markdown",
   "id": "40821cbd",
   "metadata": {},
   "source": [
    "# AIDS Dataset Analysis\n",
    "\n",
    "The DTP AIDS Antiviral Screen has checked tens of thousands of compounds for evidence of anti-HIV activity. Available are screening results and chemical structural data on compounds that are not covered by a confidentiality agreement.\n",
    "\n",
    "Screening Results (May 2004 Release)\n",
    "The results of the screening tests are evaluated and placed in one of three categories:\n",
    "\n",
    "CA - Confirmed active\n",
    "CM - Confirmed moderately active\n",
    "CI - Confirmed inactive\n",
    "\n",
    "\n",
    "Chemical Structural Data - AIDS Screened (October 99 release)\n",
    "The 2D structure (connection table) for each of the 42,390 compounds was retrieved from the DTP's Drug Information System. Conversion to a 3D structure was accomplished using the program Corina, created by Prof. Gasteiger's group.\n"
   ]
  },
  {
   "cell_type": "code",
   "execution_count": null,
   "id": "c1bb90ea",
   "metadata": {},
   "outputs": [],
   "source": [
    "import networkx as nx\n",
    "import numpy as np\n",
    "import scipy as sc\n",
    "import os\n",
    "import re\n",
    "\n",
    "import util\n",
    "\n",
    "def get_aids_node_map():\n",
    "    activities = \"\"\"0\tC  \n",
    "1\tO  \n",
    "2\tN  \n",
    "3\tCl \n",
    "4\tF  \n",
    "5\tS  \n",
    "6\tSe \n",
    "7\tP  \n",
    "8\tNa \n",
    "9\tI  \n",
    "10\tCo \n",
    "11\tBr \n",
    "12\tLi \n",
    "13\tSi \n",
    "14\tMg \n",
    "15\tCu \n",
    "16\tAs \n",
    "17\tB  \n",
    "18\tPt \n",
    "19\tRu \n",
    "20\tK  \n",
    "21\tPd \n",
    "22\tAu \n",
    "23\tTe \n",
    "24\tW  \n",
    "25\tRh \n",
    "26\tZn \n",
    "27\tBi \n",
    "28\tPb \n",
    "29\tGe \n",
    "30\tSb \n",
    "31\tSn \n",
    "32\tGa \n",
    "33\tHg \n",
    "34\tHo \n",
    "35\tTl \n",
    "36\tNi \n",
    "37\tTb\"\"\"\n",
    "\n",
    "    node_map = {i.split('\\t')[0].strip() : i.split('\\t')[1].strip() for i in activities.split(\"\\n\")}\n",
    "\n",
    "    return node_map"
   ]
  },
  {
   "cell_type": "code",
   "execution_count": null,
   "id": "9d5ddc70",
   "metadata": {},
   "outputs": [],
   "source": [
    "node_map = get_aids_node_map()\n",
    "aids_graphs = read_graphfile_viz('./../dataset', dataname='AIDS', node_map = node_map)"
   ]
  },
  {
   "cell_type": "code",
   "execution_count": null,
   "id": "3e04cb41",
   "metadata": {},
   "outputs": [],
   "source": [
    "G = aids_graphs[0][0].copy()\n",
    "labels = aids_graphs[0][1].copy()\n",
    "for n1 in list(G.nodes(data=True)):\n",
    "    print(n1)"
   ]
  },
  {
   "cell_type": "code",
   "execution_count": null,
   "id": "f3a877df",
   "metadata": {},
   "outputs": [],
   "source": [
    "G.degree()"
   ]
  },
  {
   "cell_type": "code",
   "execution_count": null,
   "id": "515f47cc",
   "metadata": {},
   "outputs": [],
   "source": [
    "# edges present / max number of possible edges\n",
    "nx.density(G)"
   ]
  },
  {
   "cell_type": "code",
   "execution_count": null,
   "id": "21526d27",
   "metadata": {},
   "outputs": [],
   "source": [
    "# Why is it called transitivity? if A=B and B=C, the A must equal C. \n",
    "# Similarly, in triadic closure, if person A knows person B and person B knows person C, then person A probably knows person C: hence, transitivity. ↩\n",
    "nx.transitivity(G)"
   ]
  },
  {
   "attachments": {},
   "cell_type": "markdown",
   "id": "795d20d7",
   "metadata": {},
   "source": [
    "## Centrality Measures\n",
    "\n",
    "It is used to measure the importance (or “centrality” as in how “central” a node is in the graph) of various nodes in a graph\n",
    "\n",
    "- Degree\n",
    "- Betweenness centrality - This metric defines and measures the importance of a node in a network based upon how many times it occurs in the shortest path between all pairs of nodes in a graph.\n",
    "- Closeness centrality - \n",
    "- Eigenvector centrality - This metric measures the importance of a node in a graph as a function of the importance of its neighbors. If a node is connected to highly important nodes, it will have a higher Eigen Vector Centrality score as compared to a node which is connected to lesser important nodes."
   ]
  },
  {
   "cell_type": "code",
   "execution_count": null,
   "id": "9a67899d",
   "metadata": {},
   "outputs": [],
   "source": [
    "betweenness_dict = nx.betweenness_centrality(G) # Run betweenness centrality\n",
    "eigenvector_dict = nx.eigenvector_centrality(G, max_iter=600) # Run eigenvector centrality\n",
    "\n",
    "degree_dict = nx.degree(G)\n",
    "pageranks = nx.pagerank(G, max_iter=400)\n",
    "\n",
    "\n",
    "# Assign each to an attribute in your network\n",
    "nx.set_node_attributes(G, betweenness_dict, 'betweenness')\n",
    "nx.set_node_attributes(G, eigenvector_dict, 'eigenvector')\n",
    "nx.set_node_attributes(G, degree_dict, 'degree')\n",
    "nx.set_node_attributes(G, dict(pageranks), 'pagerank')"
   ]
  },
  {
   "cell_type": "code",
   "execution_count": null,
   "id": "a1e148af",
   "metadata": {},
   "outputs": [],
   "source": [
    "from operator import itemgetter\n",
    "\n",
    "sorted_degree = sorted(dict(degree_dict).items(), key=itemgetter(1), reverse=True)\n",
    "\n",
    "print(\"Top nodes by degree:\")\n",
    "for d in sorted_degree:\n",
    "    print(d)"
   ]
  },
  {
   "cell_type": "code",
   "execution_count": null,
   "id": "f32a083e",
   "metadata": {},
   "outputs": [],
   "source": [
    "nx.draw(G, labels=labels, with_labels=True, node_size=1000)"
   ]
  },
  {
   "cell_type": "code",
   "execution_count": null,
   "id": "b1d35ab4",
   "metadata": {},
   "outputs": [],
   "source": [
    "only_labels = {k: v.split(\"-\")[0] for k, v in labels.items()}"
   ]
  },
  {
   "cell_type": "code",
   "execution_count": null,
   "id": "fbe25232",
   "metadata": {},
   "outputs": [],
   "source": [
    "nx.draw_kamada_kawai(G, labels=only_labels, with_labels = True, node_size=1000)"
   ]
  },
  {
   "cell_type": "code",
   "execution_count": null,
   "id": "e3f4b458",
   "metadata": {},
   "outputs": [],
   "source": [
    "len(aids_graphs)"
   ]
  },
  {
   "cell_type": "code",
   "execution_count": null,
   "id": "bd54087c",
   "metadata": {},
   "outputs": [],
   "source": [
    " # A dictionary\n",
    "# print(sorted(pageranks, key=lambda x: x[0], reverse=True))\n",
    "sorted_pageranks = sorted(dict(pageranks).items(), key=itemgetter(1), reverse=True)\n",
    "sorted_pageranks"
   ]
  },
  {
   "cell_type": "code",
   "execution_count": null,
   "id": "2f9478cd",
   "metadata": {},
   "outputs": [],
   "source": [
    "import pandas as pd\n",
    "graph0 = pd.DataFrame.from_dict(dict(G.nodes(data=True)), orient='index')"
   ]
  },
  {
   "cell_type": "code",
   "execution_count": null,
   "id": "46d46abe",
   "metadata": {},
   "outputs": [],
   "source": [
    "graph0.head()"
   ]
  },
  {
   "cell_type": "code",
   "execution_count": null,
   "id": "f94e54f1",
   "metadata": {},
   "outputs": [],
   "source": [
    "node_map_reversed = {v:k for k, v in node_map.items()}\n",
    "node_map_reversed"
   ]
  },
  {
   "cell_type": "code",
   "execution_count": null,
   "id": "e7c549da",
   "metadata": {
    "scrolled": true
   },
   "outputs": [],
   "source": [
    "df_centrality_measures = graph0.groupby('label').agg({'betweenness': np.mean, 'pagerank': np.mean,  'eigenvector': np.mean, }).reset_index()"
   ]
  },
  {
   "cell_type": "code",
   "execution_count": null,
   "id": "72f6fc01",
   "metadata": {},
   "outputs": [],
   "source": [
    "df_centrality_measures['label'] = df_centrality_measures['label'].apply(lambda x: node_map.get(x))"
   ]
  },
  {
   "cell_type": "code",
   "execution_count": null,
   "id": "74d9fa98",
   "metadata": {},
   "outputs": [],
   "source": [
    "import matplotlib.pyplot as plt\n",
    "\n",
    "fig, (ax1) = plt.subplots(1, 3, figsize=(11,5))\n",
    "fig.suptitle('Centrality Measures for A Drug')\n",
    "# ax1.plot(x, y)\n",
    "df_centrality_measures.plot(kind='bar', x='label', y='betweenness', ax=ax1[0])\n",
    "df_centrality_measures.plot(kind='bar', x='label', y='pagerank', ax= ax1[1])\n",
    "# df_centrality_measures.plot(kind='bar', x='label', y='closeness', ax= ax2[0])\n",
    "df_centrality_measures.plot(kind='bar', x='label', y='eigenvector', ax= ax1[2])"
   ]
  },
  {
   "cell_type": "code",
   "execution_count": null,
   "id": "d3c98081",
   "metadata": {},
   "outputs": [],
   "source": [
    "df_centrality_measures.plot(kind='bar', x='label', y='pageranks')"
   ]
  },
  {
   "cell_type": "code",
   "execution_count": null,
   "id": "562f0220",
   "metadata": {},
   "outputs": [],
   "source": []
  },
  {
   "attachments": {},
   "cell_type": "markdown",
   "id": "43533c90",
   "metadata": {},
   "source": [
    "# DHFR Dataset Analysis"
   ]
  },
  {
   "cell_type": "code",
   "execution_count": null,
   "id": "038dd4f8",
   "metadata": {},
   "outputs": [],
   "source": [
    "# node_map = get_aids_node_map()\n",
    "dhfr_graphs = read_graphfile_viz('./../dataset', dataname='DHFR')"
   ]
  },
  {
   "cell_type": "code",
   "execution_count": null,
   "id": "65ac5dec",
   "metadata": {},
   "outputs": [],
   "source": [
    "G = dhfr_graphs[1][0].copy()\n",
    "labels = dhfr_graphs[1][1].copy()\n",
    "for n1 in list(G.nodes(data=True)):\n",
    "    print(n1)"
   ]
  },
  {
   "cell_type": "code",
   "execution_count": null,
   "id": "f014bab2",
   "metadata": {},
   "outputs": [],
   "source": [
    "G.degree()"
   ]
  },
  {
   "cell_type": "code",
   "execution_count": null,
   "id": "92a4b4a6",
   "metadata": {},
   "outputs": [],
   "source": [
    "# edges present / max number of possible edges\n",
    "nx.density(G)"
   ]
  },
  {
   "cell_type": "code",
   "execution_count": null,
   "id": "6dedfd9a",
   "metadata": {},
   "outputs": [],
   "source": [
    "# Why is it called transitivity? if A=B and B=C, the A must equal C. \n",
    "# Similarly, in triadic closure, if person A knows person B and person B knows person C, then person A probably knows person C: hence, transitivity. ↩\n",
    "nx.transitivity(G)"
   ]
  },
  {
   "attachments": {},
   "cell_type": "markdown",
   "id": "2efd0887",
   "metadata": {},
   "source": [
    "## Centrality Measures\n",
    "\n",
    "It is used to measure the importance (or “centrality” as in how “central” a node is in the graph) of various nodes in a graph\n",
    "\n",
    "- Degree\n",
    "- Betweenness centrality - This metric defines and measures the importance of a node in a network based upon how many times it occurs in the shortest path between all pairs of nodes in a graph.\n",
    "- Closeness centrality - \n",
    "- Eigenvector centrality - This metric measures the importance of a node in a graph as a function of the importance of its neighbors. If a node is connected to highly important nodes, it will have a higher Eigen Vector Centrality score as compared to a node which is connected to lesser important nodes."
   ]
  },
  {
   "cell_type": "code",
   "execution_count": null,
   "id": "c1705659",
   "metadata": {},
   "outputs": [],
   "source": [
    "betweenness_dict = nx.betweenness_centrality(G) # Run betweenness centrality\n",
    "eigenvector_dict = nx.eigenvector_centrality(G, max_iter=600) # Run eigenvector centrality\n",
    "\n",
    "degree_dict = nx.degree(G)\n",
    "pageranks = nx.pagerank(G, max_iter=400)\n",
    "\n",
    "\n",
    "# Assign each to an attribute in your network\n",
    "nx.set_node_attributes(G, betweenness_dict, 'betweenness')\n",
    "nx.set_node_attributes(G, eigenvector_dict, 'eigenvector')\n",
    "nx.set_node_attributes(G, degree_dict, 'degree')\n",
    "nx.set_node_attributes(G, dict(pageranks), 'pagerank')"
   ]
  },
  {
   "cell_type": "code",
   "execution_count": null,
   "id": "24227b4b",
   "metadata": {},
   "outputs": [],
   "source": [
    "from operator import itemgetter\n",
    "\n",
    "sorted_degree = sorted(dict(degree_dict).items(), key=itemgetter(1), reverse=True)\n",
    "\n",
    "print(\"Top nodes by degree:\")\n",
    "for d in sorted_degree:\n",
    "    print(d)"
   ]
  },
  {
   "cell_type": "code",
   "execution_count": null,
   "id": "d35bddad",
   "metadata": {},
   "outputs": [],
   "source": [
    "nx.draw(G,labels=labels, with_labels=True, node_size=1000)"
   ]
  },
  {
   "cell_type": "code",
   "execution_count": null,
   "id": "a410cc20",
   "metadata": {},
   "outputs": [],
   "source": [
    "only_labels = {k: v.split(\"-\")[0] for k, v in labels.items()}"
   ]
  },
  {
   "cell_type": "code",
   "execution_count": null,
   "id": "bf6c3571",
   "metadata": {},
   "outputs": [],
   "source": [
    "nx.draw_kamada_kawai(G, labels=only_labels, with_labels = True, node_size=1000)"
   ]
  },
  {
   "cell_type": "code",
   "execution_count": null,
   "id": "841d1246",
   "metadata": {},
   "outputs": [],
   "source": [
    " # A dictionary\n",
    "# print(sorted(pageranks, key=lambda x: x[0], reverse=True))\n",
    "sorted_pageranks = sorted(dict(pageranks).items(), key=itemgetter(1), reverse=True)\n",
    "sorted_pageranks"
   ]
  },
  {
   "cell_type": "code",
   "execution_count": null,
   "id": "035d11f6",
   "metadata": {},
   "outputs": [],
   "source": [
    "import pandas as pd\n",
    "graph0 = pd.DataFrame.from_dict(dict(G.nodes(data=True)), orient='index')"
   ]
  },
  {
   "cell_type": "code",
   "execution_count": null,
   "id": "3a7d4717",
   "metadata": {},
   "outputs": [],
   "source": [
    "graph0.describe()"
   ]
  },
  {
   "cell_type": "code",
   "execution_count": null,
   "id": "26a24884",
   "metadata": {
    "scrolled": true
   },
   "outputs": [],
   "source": [
    "df_centrality_measures = graph0.groupby('label').agg({'betweenness': np.sum, 'pageranks': np.sum}).reset_index()"
   ]
  },
  {
   "cell_type": "code",
   "execution_count": null,
   "id": "84c10411",
   "metadata": {},
   "outputs": [],
   "source": [
    "df_centrality_measures.plot(kind='bar', x='label', y='betweenness')"
   ]
  },
  {
   "cell_type": "code",
   "execution_count": null,
   "id": "0da6e8a8",
   "metadata": {},
   "outputs": [],
   "source": [
    "df_centrality_measures.plot(kind='bar', x='label', y='pageranks')"
   ]
  }
 ],
 "metadata": {
  "kernelspec": {
   "display_name": "Python 3 (ipykernel)",
   "language": "python",
   "name": "python3"
  },
  "language_info": {
   "codemirror_mode": {
    "name": "ipython",
    "version": 3
   },
   "file_extension": ".py",
   "mimetype": "text/x-python",
   "name": "python",
   "nbconvert_exporter": "python",
   "pygments_lexer": "ipython3",
   "version": "3.8.0"
  },
  "vscode": {
   "interpreter": {
    "hash": "051f56d9f65796cf867600f3709f2d342d4cb8a120617e0616b451e207fd8351"
   }
  }
 },
 "nbformat": 4,
 "nbformat_minor": 5
}
