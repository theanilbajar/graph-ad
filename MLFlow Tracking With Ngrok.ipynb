{
 "cells": [
  {
   "cell_type": "code",
   "execution_count": null,
   "metadata": {},
   "outputs": [],
   "source": [
    "!pip install mlflow --quiet\n",
    "!pip install pyngrok --quiet"
   ]
  },
  {
   "cell_type": "code",
   "execution_count": null,
   "metadata": {},
   "outputs": [],
   "source": [
    "# run mlflow server (tracking UI) in the background\n",
    "get_ipython().system_raw(\"mlflow ui --port 80 &\")"
   ]
  },
  {
   "cell_type": "code",
   "execution_count": null,
   "metadata": {},
   "outputs": [],
   "source": [
    "# Terminate ngrok port\n",
    "from pyngrok import ngrok\n",
    "\n",
    "ngrok.kill()\n",
    "# Set authentication (optional)\n",
    "# Get your authentication token via https://dashboard.ngrok.com/auth\n",
    "NGROK_AUTH_TOKEN = \"YOUR TOKEN\"\n",
    "ngrok.set_auth_token(NGROK_AUTH_TOKEN)\n",
    "# Open an HTTPs tunnel on port 80 for http://localhost:80\n",
    "public_url = ngrok.connect(port=\"80\", proto=\"http\", options={\"bind_tls\": True})\n",
    "print(\"MLflow Tracking UI:\", public_url)"
   ]
  },
  {
   "cell_type": "code",
   "execution_count": null,
   "metadata": {},
   "outputs": [],
   "source": []
  }
 ],
 "metadata": {
  "kernelspec": {
   "display_name": "Python 3 (ipykernel)",
   "language": "python",
   "name": "python3"
  },
  "language_info": {
   "codemirror_mode": {
    "name": "ipython",
    "version": 3
   },
   "file_extension": ".py",
   "mimetype": "text/x-python",
   "name": "python",
   "nbconvert_exporter": "python",
   "pygments_lexer": "ipython3",
   "version": "3.8.0"
  },
  "vscode": {
   "interpreter": {
    "hash": "76baaece0a92c5556b40b84cd8fc36a9b0469006957ec1beeb4a0b55e412ea42"
   }
  }
 },
 "nbformat": 4,
 "nbformat_minor": 2
}
